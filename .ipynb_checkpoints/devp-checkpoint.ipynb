{
 "cells": [
  {
   "cell_type": "code",
   "execution_count": 3,
   "metadata": {},
   "outputs": [],
   "source": [
    "import pandas as pd\n",
    "import psycopg2\n",
    "import sqlalchemy\n",
    "from sqlalchemy import create_engine\n",
    "import sqlite3\n",
    "from config import get_db_connection"
   ]
  },
  {
   "cell_type": "code",
   "execution_count": 7,
   "metadata": {},
   "outputs": [],
   "source": [
    "from config import pg_engine"
   ]
  },
  {
   "cell_type": "code",
   "execution_count": 20,
   "metadata": {},
   "outputs": [],
   "source": [
    "conn=psycopg2.connect(host='localhost',database='school',user='postgres',password='Otsi1234')"
   ]
  },
  {
   "cell_type": "code",
   "execution_count": 4,
   "metadata": {},
   "outputs": [],
   "source": [
    "marks_sheet=pd.read_csv(r'C:\\Users\\sampath.emandi\\Desktop\\marks_sheet.csv')"
   ]
  },
  {
   "cell_type": "code",
   "execution_count": 35,
   "metadata": {},
   "outputs": [],
   "source": [
    "# students_data['Joining_date']=pd.to_datetime(students_data['Joining_date'])\n",
    "# students_data['DOB']=pd.to_datetime(students_data['DOB'])\n",
    "# students_data['Last_update']==pd.to_datetime(students_data['Last_update'])"
   ]
  },
  {
   "cell_type": "code",
   "execution_count": 6,
   "metadata": {},
   "outputs": [],
   "source": [
    "conn=psycopg2.connect(host='localhost',database='school',user='postgres',password='Otsi1234')\n",
    "cur = conn.cursor()\n",
    "with open(r'C:\\\\Users\\sampath.emandi\\\\Desktop\\\\marks_sheet.csv') as f:\n",
    "    next(f) # Skip the header row.\n",
    "    cur.copy_from(f, 'acadamic_reports', sep=',')\n",
    "conn.commit()\n",
    "conn.close()"
   ]
  },
  {
   "cell_type": "code",
   "execution_count": 4,
   "metadata": {},
   "outputs": [
    {
     "ename": "InFailedSqlTransaction",
     "evalue": "current transaction is aborted, commands ignored until end of transaction block\n",
     "output_type": "error",
     "traceback": [
      "\u001b[1;31m---------------------------------------------------------------------------\u001b[0m",
      "\u001b[1;31mInFailedSqlTransaction\u001b[0m                    Traceback (most recent call last)",
      "\u001b[1;32mc:\\POC\\devp.ipynb Cell 6\u001b[0m in \u001b[0;36m<cell line: 2>\u001b[1;34m()\u001b[0m\n\u001b[0;32m      <a href='vscode-notebook-cell:/c%3A/POC/devp.ipynb#W5sZmlsZQ%3D%3D?line=0'>1</a>\u001b[0m cur \u001b[39m=\u001b[39m conn\u001b[39m.\u001b[39mcursor()\n\u001b[1;32m----> <a href='vscode-notebook-cell:/c%3A/POC/devp.ipynb#W5sZmlsZQ%3D%3D?line=1'>2</a>\u001b[0m cur\u001b[39m.\u001b[39;49mexecute(\u001b[39m'''\u001b[39;49m\u001b[39mSELECT * FROM information_schema.columns WHERE table_schema = \u001b[39;49m\u001b[39m'\u001b[39;49m\u001b[39mpublic\u001b[39;49m\u001b[39m'\u001b[39;49m\u001b[39mAND table_name   = \u001b[39;49m\u001b[39m'\u001b[39;49m\u001b[39mstudent_details\u001b[39;49m\u001b[39m'\u001b[39;49m\u001b[39m;\u001b[39;49m\u001b[39m'''\u001b[39;49m)\n",
      "\u001b[1;31mInFailedSqlTransaction\u001b[0m: current transaction is aborted, commands ignored until end of transaction block\n"
     ]
    }
   ],
   "source": [
    "cur = conn.cursor()\n",
    "cur.execute('''SELECT * FROM information_schema.columns WHERE table_schema = 'public'AND table_name   = 'student_details';''')"
   ]
  },
  {
   "cell_type": "code",
   "execution_count": null,
   "metadata": {},
   "outputs": [],
   "source": []
  },
  {
   "cell_type": "code",
   "execution_count": 1,
   "metadata": {},
   "outputs": [],
   "source": [
    "signup_detailes={\n",
    "  \"confirm_password\": \"QWERTY!@#$\",\n",
    "  \"email\": \"sampathteja42@gmail.com\",\n",
    "  \"password\": \"QWERTY!@#$\",\n",
    "  \"username\": \"sampathE\"\n",
    "}"
   ]
  },
  {
   "cell_type": "code",
   "execution_count": 2,
   "metadata": {},
   "outputs": [],
   "source": [
    "username=signup_detailes['username']\n",
    "password=signup_detailes['password']\n",
    "email=signup_detailes['email']"
   ]
  },
  {
   "cell_type": "code",
   "execution_count": 9,
   "metadata": {},
   "outputs": [
    {
     "data": {
      "text/plain": [
       "0"
      ]
     },
     "execution_count": 9,
     "metadata": {},
     "output_type": "execute_result"
    }
   ],
   "source": [
    "username=signup_detailes['username']\n",
    "password=signup_detailes['password']\n",
    "email=signup_detailes['email']\n",
    "conn = pg_engine()\n",
    "# cur = conn.cursor()\n",
    "# cur.execute(f'''INSERT INTO users VALUES ('{username}','{password}','{email}');''')\n",
    "df=pd.DataFrame()\n",
    "df['username']=username\n",
    "df['password']=password\n",
    "df['email']=email\n",
    " "
   ]
  },
  {
   "cell_type": "code",
   "execution_count": 1,
   "metadata": {},
   "outputs": [],
   "source": [
    "import smtplib\n",
    "import ssl"
   ]
  },
  {
   "cell_type": "code",
   "execution_count": 4,
   "metadata": {},
   "outputs": [],
   "source": [
    "gmail_user = 'sampathemandi@gmail.com'\n",
    "gmail_app_password = '10Jqka@A'"
   ]
  },
  {
   "cell_type": "code",
   "execution_count": 5,
   "metadata": {},
   "outputs": [
    {
     "data": {
      "text/plain": [
       "(221,\n",
       " b'2.0.0 closing connection 82-20020a810a55000000b00545a0818486sm2774266ywk.22 - gsmtp')"
      ]
     },
     "execution_count": 5,
     "metadata": {},
     "output_type": "execute_result"
    }
   ],
   "source": [
    "import ssl\n",
    "\n",
    "otp = ''.join([str(random.randint(0, 9)) for _ in range(6)])\n",
    "sender = \"sampathemandi@gmail.com\"\n",
    "password = \"tqljggezpsnldzss\"\n",
    "    \n",
    "where_to_email = \"sampathteja42@gmail.com\"\n",
    "theme = \"this is subject\"\n",
    "message = \"this is your message, say hi to reciever\"\n",
    "    \n",
    "sender_password = password\n",
    "session = smtplib.SMTP_SSL('smtp.gmail.com', 465)\n",
    "session.login(sender, sender_password)\n",
    "msg = f'''From: {sender}\\r\\nTo: {where_to_email}\\r\\nContent-Type: text/plain; charset=\"utf-8\"\\r\\nSubject: {theme}\\r\\n\\r\\n \n",
    "        your OTP is {otp}'''\n",
    "msg += message\n",
    "session.sendmail(sender, where_to_email, msg.encode('utf8'))\n",
    "session.quit()"
   ]
  },
  {
   "cell_type": "code",
   "execution_count": 9,
   "metadata": {},
   "outputs": [],
   "source": [
    "sent_from = gmail_user\n",
    "sent_to = ['sampathteja42@gmail.com']\n",
    "sent_subject = \"Hey Friends!\"\n",
    "sent_body = (\"Hey, what's up? friend!\\n\\n\"\n",
    "             \"I hope you have been well!\\n\"\n",
    "             \"\\n\"\n",
    "             \"Cheers,\\n\"\n",
    "             \"Jay\\n\")\n",
    "\n",
    "email_text = \"\"\"\\\n",
    "From: %s\n",
    "To: %s\n",
    "Subject: %s\n",
    "\n",
    "%s\n",
    "\"\"\" % (sent_from, \", \".join(sent_to), sent_subject, sent_body)\n"
   ]
  },
  {
   "cell_type": "code",
   "execution_count": 10,
   "metadata": {},
   "outputs": [
    {
     "name": "stdout",
     "output_type": "stream",
     "text": [
      "Error: [SSL: WRONG_VERSION_NUMBER] wrong version number (_ssl.c:997)!\n",
      "\n",
      "\n"
     ]
    }
   ],
   "source": [
    "try:\n",
    "    server = smtplib.SMTP_SSL('smtp.gmail.com', 587)\n",
    "    server.ehlo()\n",
    "    server.login(gmail_user, gmail_app_password)\n",
    "    server.sendmail(sent_from, sent_to, email_text)\n",
    "    server.close()\n",
    "\n",
    "    print('Email sent!')\n",
    "except Exception as exception:\n",
    "    print(\"Error: %s!\\n\\n\" % exception)"
   ]
  },
  {
   "cell_type": "code",
   "execution_count": null,
   "metadata": {},
   "outputs": [],
   "source": []
  }
 ],
 "metadata": {
  "kernelspec": {
   "display_name": "Python 3 (ipykernel)",
   "language": "python",
   "name": "python3"
  },
  "language_info": {
   "codemirror_mode": {
    "name": "ipython",
    "version": 3
   },
   "file_extension": ".py",
   "mimetype": "text/x-python",
   "name": "python",
   "nbconvert_exporter": "python",
   "pygments_lexer": "ipython3",
   "version": "3.9.7"
  }
 },
 "nbformat": 4,
 "nbformat_minor": 2
}
