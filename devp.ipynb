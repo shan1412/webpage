{
 "cells": [
  {
   "cell_type": "code",
   "execution_count": 1,
   "metadata": {},
   "outputs": [],
   "source": [
    "import pandas as pd\n",
    "import psycopg2\n",
    "import sqlalchemy\n",
    "from sqlalchemy import create_engine\n",
    "import sqlite3\n",
    "from config import get_db_connection\n",
    "import random"
   ]
  },
  {
   "cell_type": "code",
   "execution_count": 3,
   "metadata": {},
   "outputs": [],
   "source": [
    "from config import pg_engine"
   ]
  },
  {
   "cell_type": "code",
   "execution_count": 4,
   "metadata": {},
   "outputs": [],
   "source": [
    "conn=psycopg2.connect(host='localhost',database='school',user='postgres',password='Otsi1234')"
   ]
  },
  {
   "cell_type": "code",
   "execution_count": 4,
   "metadata": {},
   "outputs": [],
   "source": [
    "marks_sheet=pd.read_csv(r'C:\\Users\\sampath.emandi\\Desktop\\marks_sheet.csv')"
   ]
  },
  {
   "cell_type": "code",
   "execution_count": 35,
   "metadata": {},
   "outputs": [],
   "source": [
    "# students_data['Joining_date']=pd.to_datetime(students_data['Joining_date'])\n",
    "# students_data['DOB']=pd.to_datetime(students_data['DOB'])\n",
    "# students_data['Last_update']==pd.to_datetime(students_data['Last_update'])"
   ]
  },
  {
   "cell_type": "code",
   "execution_count": 6,
   "metadata": {},
   "outputs": [],
   "source": [
    "conn=psycopg2.connect(host='localhost',database='school',user='postgres',password='Otsi1234')\n",
    "cur = conn.cursor()\n",
    "with open(r'C:\\\\Users\\sampath.emandi\\\\Desktop\\\\marks_sheet.csv') as f:\n",
    "    next(f) # Skip the header row.\n",
    "    cur.copy_from(f, 'acadamic_reports', sep=',')\n",
    "conn.commit()\n",
    "conn.close()"
   ]
  },
  {
   "cell_type": "code",
   "execution_count": 4,
   "metadata": {},
   "outputs": [
    {
     "ename": "InFailedSqlTransaction",
     "evalue": "current transaction is aborted, commands ignored until end of transaction block\n",
     "output_type": "error",
     "traceback": [
      "\u001b[1;31m---------------------------------------------------------------------------\u001b[0m",
      "\u001b[1;31mInFailedSqlTransaction\u001b[0m                    Traceback (most recent call last)",
      "\u001b[1;32mc:\\POC\\devp.ipynb Cell 6\u001b[0m in \u001b[0;36m<cell line: 2>\u001b[1;34m()\u001b[0m\n\u001b[0;32m      <a href='vscode-notebook-cell:/c%3A/POC/devp.ipynb#W5sZmlsZQ%3D%3D?line=0'>1</a>\u001b[0m cur \u001b[39m=\u001b[39m conn\u001b[39m.\u001b[39mcursor()\n\u001b[1;32m----> <a href='vscode-notebook-cell:/c%3A/POC/devp.ipynb#W5sZmlsZQ%3D%3D?line=1'>2</a>\u001b[0m cur\u001b[39m.\u001b[39;49mexecute(\u001b[39m'''\u001b[39;49m\u001b[39mSELECT * FROM information_schema.columns WHERE table_schema = \u001b[39;49m\u001b[39m'\u001b[39;49m\u001b[39mpublic\u001b[39;49m\u001b[39m'\u001b[39;49m\u001b[39mAND table_name   = \u001b[39;49m\u001b[39m'\u001b[39;49m\u001b[39mstudent_details\u001b[39;49m\u001b[39m'\u001b[39;49m\u001b[39m;\u001b[39;49m\u001b[39m'''\u001b[39;49m)\n",
      "\u001b[1;31mInFailedSqlTransaction\u001b[0m: current transaction is aborted, commands ignored until end of transaction block\n"
     ]
    }
   ],
   "source": [
    "cur = conn.cursor()\n",
    "cur.execute('''SELECT * FROM information_schema.columns WHERE table_schema = 'public'AND table_name   = 'student_details';''')"
   ]
  },
  {
   "cell_type": "code",
   "execution_count": 3,
   "metadata": {},
   "outputs": [],
   "source": [
    "conn = get_db_connection()\n",
    "cur = conn.cursor()\n",
    "cur.execute(f'''Select otp from users where email='sampathteja42@gmail.com';''')\n",
    "db_otp=cur.fetchall()[0][0]    "
   ]
  },
  {
   "cell_type": "code",
   "execution_count": 4,
   "metadata": {},
   "outputs": [
    {
     "data": {
      "text/plain": [
       "451845"
      ]
     },
     "execution_count": 4,
     "metadata": {},
     "output_type": "execute_result"
    }
   ],
   "source": [
    "db_otp"
   ]
  },
  {
   "cell_type": "code",
   "execution_count": 16,
   "metadata": {},
   "outputs": [],
   "source": [
    "conn = get_db_connection()\n",
    "cur = conn.cursor()\n",
    "cur.execute(f'''select password_hash from public.users where email='sampathteja42@gmail.com';''')      \n",
    "pw_in_db=cur.fetchall()\n",
    "conn.close()"
   ]
  },
  {
   "cell_type": "code",
   "execution_count": 17,
   "metadata": {},
   "outputs": [
    {
     "data": {
      "text/plain": [
       "[]"
      ]
     },
     "execution_count": 17,
     "metadata": {},
     "output_type": "execute_result"
    }
   ],
   "source": [
    "pw_in_db"
   ]
  },
  {
   "cell_type": "code",
   "execution_count": 2,
   "metadata": {},
   "outputs": [],
   "source": [
    "username=signup_detailes['username']\n",
    "password=signup_detailes['password']\n",
    "email=signup_detailes['email']"
   ]
  },
  {
   "cell_type": "code",
   "execution_count": 9,
   "metadata": {},
   "outputs": [
    {
     "data": {
      "text/plain": [
       "0"
      ]
     },
     "execution_count": 9,
     "metadata": {},
     "output_type": "execute_result"
    }
   ],
   "source": [
    "username=signup_detailes['username']\n",
    "password=signup_detailes['password']\n",
    "email=signup_detailes['email']\n",
    "conn = pg_engine()\n",
    "# cur = conn.cursor()\n",
    "# cur.execute(f'''INSERT INTO users VALUES ('{username}','{password}','{email}');''')\n",
    "df=pd.DataFrame()\n",
    "df['username']=username\n",
    "df['password']=password\n",
    "df['email']=email\n",
    " "
   ]
  },
  {
   "cell_type": "code",
   "execution_count": 5,
   "metadata": {},
   "outputs": [],
   "source": [
    "import smtplib\n",
    "import ssl"
   ]
  },
  {
   "cell_type": "code",
   "execution_count": 6,
   "metadata": {},
   "outputs": [],
   "source": [
    "gmail_user = 'sampathemandi@gmail.com'\n",
    "gmail_app_password = '10Jqka@A'"
   ]
  },
  {
   "cell_type": "code",
   "execution_count": 7,
   "metadata": {},
   "outputs": [
    {
     "data": {
      "text/plain": [
       "(221,\n",
       " b'2.0.0 closing connection bw28-20020a05690c079c00b00545a08184bfsm3271760ywb.79 - gsmtp')"
      ]
     },
     "execution_count": 7,
     "metadata": {},
     "output_type": "execute_result"
    }
   ],
   "source": [
    "import ssl\n",
    "\n",
    "otp = ''.join([str(random.randint(0, 9)) for _ in range(6)])\n",
    "sender = \"sampathemandi@gmail.com\"\n",
    "password = \"tqljggezpsnldzss\"\n",
    "    \n",
    "where_to_email = \"sampathteja42@gmail.com\"\n",
    "theme = \"Reset_password for your account \"\n",
    "message = \"this is your message, say hi to reciever\"\n",
    "    \n",
    "sender_password = password\n",
    "session = smtplib.SMTP_SSL('smtp.gmail.com', 465)\n",
    "session.login(sender, sender_password)\n",
    "msg = f'''From: {sender}\\r\\nTo: {where_to_email}\\r\\nContent-Type: text/plain; charset=\"utf-8\"\\r\\nSubject: {theme}\\r\\n\\r\\n \n",
    "        your OTP is {otp}'''\n",
    "msg += message\n",
    "session.sendmail(sender, where_to_email, msg.encode('utf8'))\n",
    "session.quit()"
   ]
  },
  {
   "cell_type": "code",
   "execution_count": 12,
   "metadata": {},
   "outputs": [],
   "source": [
    "sent_from = gmail_user\n",
    "sent_to = ['sampathteja42@gmail.com']\n",
    "sent_subject = \"Hey Friends!\"\n",
    "sent_body = (\"Hey, what's up? friend!\\n\\n\"\n",
    "             \"I hope you have been well!\\n\"\n",
    "             \"\\n\"\n",
    "             \"Cheers,\\n\"\n",
    "             \"Jay\\n\")\n",
    "\n",
    "email_text = \"\"\"\\\n",
    "From: %s\n",
    "To: %s\n",
    "Subject: %s\n",
    "\n",
    "%s\n",
    "\"\"\" % (sent_from, \", \".join(sent_to), sent_subject, sent_body)\n"
   ]
  },
  {
   "cell_type": "code",
   "execution_count": 10,
   "metadata": {},
   "outputs": [
    {
     "name": "stdout",
     "output_type": "stream",
     "text": [
      "Error: [SSL: WRONG_VERSION_NUMBER] wrong version number (_ssl.c:997)!\n",
      "\n",
      "\n"
     ]
    }
   ],
   "source": [
    "try:\n",
    "    server = smtplib.SMTP_SSL('smtp.gmail.com', 587)\n",
    "    server.ehlo()\n",
    "    server.login(gmail_user, gmail_app_password)\n",
    "    server.sendmail(sent_from, sent_to, email_text)\n",
    "    server.close()\n",
    "\n",
    "    print('Email sent!')\n",
    "except Exception as exception:\n",
    "    print(\"Error: %s!\\n\\n\" % exception)"
   ]
  },
  {
   "cell_type": "code",
   "execution_count": 13,
   "metadata": {},
   "outputs": [],
   "source": [
    "import hashlib\n",
    "\n",
    "otp = '123456'\n",
    "salt = 'abc123'  # add a salt to the OTP to increase security"
   ]
  },
  {
   "cell_type": "code",
   "execution_count": 14,
   "metadata": {},
   "outputs": [
    {
     "name": "stdout",
     "output_type": "stream",
     "text": [
      "OTP: 123456\n",
      "Hashed OTP: a44934344c553000cb198d77cae685d33563617a01b17dc60d45a5557ad9c21d\n"
     ]
    }
   ],
   "source": [
    "\n",
    "\n",
    "# hash the OTP with a salt\n",
    "hash_object = hashlib.sha256((otp + salt).encode('utf-8'))\n",
    "hashed_otp = hash_object.hexdigest()\n",
    "\n",
    "print('OTP:', otp)\n",
    "print('Hashed OTP:', hashed_otp)\n"
   ]
  },
  {
   "cell_type": "code",
   "execution_count": 17,
   "metadata": {},
   "outputs": [],
   "source": [
    "import os"
   ]
  },
  {
   "cell_type": "code",
   "execution_count": 18,
   "metadata": {},
   "outputs": [],
   "source": [
    "os.chdir(r'F:\\webpage\\webpage')"
   ]
  },
  {
   "cell_type": "code",
   "execution_count": 19,
   "metadata": {},
   "outputs": [
    {
     "data": {
      "text/plain": [
       "'f:\\\\webpage\\\\webpage'"
      ]
     },
     "execution_count": 19,
     "metadata": {},
     "output_type": "execute_result"
    }
   ],
   "source": [
    "os.getcwd()"
   ]
  },
  {
   "cell_type": "code",
   "execution_count": null,
   "metadata": {},
   "outputs": [],
   "source": []
  },
  {
   "cell_type": "code",
   "execution_count": 8,
   "metadata": {},
   "outputs": [
    {
     "ename": "FileNotFoundError",
     "evalue": "[Errno 2] No such file or directory: 'passwords.txt'",
     "output_type": "error",
     "traceback": [
      "\u001b[1;31m---------------------------------------------------------------------------\u001b[0m",
      "\u001b[1;31mFileNotFoundError\u001b[0m                         Traceback (most recent call last)",
      "Input \u001b[1;32mIn [8]\u001b[0m, in \u001b[0;36m<cell line: 5>\u001b[1;34m()\u001b[0m\n\u001b[0;32m      2\u001b[0m \u001b[38;5;28;01mimport\u001b[39;00m \u001b[38;5;21;01mos\u001b[39;00m\n\u001b[0;32m      4\u001b[0m \u001b[38;5;66;03m### 1. read your password file\u001b[39;00m\n\u001b[1;32m----> 5\u001b[0m \u001b[38;5;28;01mwith\u001b[39;00m \u001b[38;5;28;43mopen\u001b[39;49m\u001b[43m(\u001b[49m\u001b[38;5;124;43m'\u001b[39;49m\u001b[38;5;124;43mpasswords.txt\u001b[39;49m\u001b[38;5;124;43m'\u001b[39;49m\u001b[43m)\u001b[49m \u001b[38;5;28;01mas\u001b[39;00m f:\n\u001b[0;32m      6\u001b[0m     mypwd \u001b[38;5;241m=\u001b[39m \u001b[38;5;124m'\u001b[39m\u001b[38;5;124m'\u001b[39m\u001b[38;5;241m.\u001b[39mjoin(f\u001b[38;5;241m.\u001b[39mreadlines())\n",
      "\u001b[1;31mFileNotFoundError\u001b[0m: [Errno 2] No such file or directory: 'passwords.txt'"
     ]
    }
   ],
   "source": [
    "from cryptography.fernet import Fernet\n",
    "import os\n",
    "\n",
    "### 1. read your password file\n",
    "with open('passwords.txt') as f:\n",
    "    mypwd = ''.join(f.readlines())"
   ]
  },
  {
   "cell_type": "code",
   "execution_count": 16,
   "metadata": {},
   "outputs": [
    {
     "data": {
      "text/plain": [
       "'Otsi@123\\n'"
      ]
     },
     "execution_count": 16,
     "metadata": {},
     "output_type": "execute_result"
    }
   ],
   "source": [
    "mypwd"
   ]
  },
  {
   "cell_type": "code",
   "execution_count": 4,
   "metadata": {},
   "outputs": [
    {
     "ename": "NameError",
     "evalue": "name 'Fernet' is not defined",
     "output_type": "error",
     "traceback": [
      "\u001b[1;31m---------------------------------------------------------------------------\u001b[0m",
      "\u001b[1;31mNameError\u001b[0m                                 Traceback (most recent call last)",
      "Cell \u001b[1;32mIn[4], line 2\u001b[0m\n\u001b[0;32m      1\u001b[0m \u001b[39m### 2. generate key and write it in a file\u001b[39;00m\n\u001b[1;32m----> 2\u001b[0m key \u001b[39m=\u001b[39m Fernet\u001b[39m.\u001b[39mgenerate_key()\n\u001b[0;32m      3\u001b[0m f \u001b[39m=\u001b[39m \u001b[39mopen\u001b[39m(\u001b[39m\"\u001b[39m\u001b[39mrefKey.txt\u001b[39m\u001b[39m\"\u001b[39m, \u001b[39m\"\u001b[39m\u001b[39mwb\u001b[39m\u001b[39m\"\u001b[39m)\n\u001b[0;32m      4\u001b[0m f\u001b[39m.\u001b[39mwrite(key)\n",
      "\u001b[1;31mNameError\u001b[0m: name 'Fernet' is not defined"
     ]
    }
   ],
   "source": [
    "### 2. generate key and write it in a file\n",
    "key = Fernet.generate_key()\n",
    "f = open(\"refKey.txt\", \"wb\")\n",
    "f.write(key)\n",
    "f.close()"
   ]
  },
  {
   "cell_type": "code",
   "execution_count": 22,
   "metadata": {},
   "outputs": [
    {
     "data": {
      "text/plain": [
       "b'c-OluvWXtJj8xu4CKZmQ4Towz6y6U52z3ANI1oH3U60='"
      ]
     },
     "execution_count": 22,
     "metadata": {},
     "output_type": "execute_result"
    }
   ],
   "source": [
    "key"
   ]
  },
  {
   "cell_type": "code",
   "execution_count": 32,
   "metadata": {},
   "outputs": [],
   "source": [
    "### 3. encrypt the password and write it in a file\n",
    "refKey = Fernet(key)\n",
    "mypwdbyt = bytes(mypwd, 'utf-8') # convert into byte"
   ]
  },
  {
   "cell_type": "code",
   "execution_count": 33,
   "metadata": {},
   "outputs": [
    {
     "data": {
      "text/plain": [
       "<cryptography.fernet.Fernet at 0x1b252dd8a60>"
      ]
     },
     "execution_count": 33,
     "metadata": {},
     "output_type": "execute_result"
    }
   ],
   "source": [
    "refKey"
   ]
  },
  {
   "cell_type": "code",
   "execution_count": 34,
   "metadata": {},
   "outputs": [
    {
     "data": {
      "text/plain": [
       "b'Otsi@123\\n'"
      ]
     },
     "execution_count": 34,
     "metadata": {},
     "output_type": "execute_result"
    }
   ],
   "source": [
    "mypwdbyt"
   ]
  },
  {
   "cell_type": "code",
   "execution_count": 36,
   "metadata": {},
   "outputs": [],
   "source": [
    "encryptedPWD = refKey.encrypt(mypwdbyt)"
   ]
  },
  {
   "cell_type": "code",
   "execution_count": 37,
   "metadata": {},
   "outputs": [
    {
     "data": {
      "text/plain": [
       "b'gAAAAABkNOUs4wXOwNbJR7LG6xulE6Jg7-p2NzKmWNy7gL7QcZTfF5yM5W4XAWPx41EzgtQMhY9dmRp__qxlHp3_PaUJ0zPBbA=='"
      ]
     },
     "execution_count": 37,
     "metadata": {},
     "output_type": "execute_result"
    }
   ],
   "source": [
    "encryptedPWD"
   ]
  },
  {
   "cell_type": "code",
   "execution_count": 38,
   "metadata": {},
   "outputs": [],
   "source": [
    "\n",
    "\n",
    "f = open(\"encryptedPWD.txt\", \"wb\")\n",
    "f.write(encryptedPWD)\n",
    "f.close()"
   ]
  },
  {
   "cell_type": "code",
   "execution_count": 41,
   "metadata": {},
   "outputs": [
    {
     "name": "stdout",
     "output_type": "stream",
     "text": [
      "File is not available\n"
     ]
    }
   ],
   "source": [
    "\n",
    "\n",
    "\n",
    "\n",
    "\n",
    "### 4. delete the password file\n",
    "if os.path.exists(\"passwords.txt\"):\n",
    "  os.remove(\"passwords.txt\")\n",
    "else:\n",
    "  print(\"File is not available\")"
   ]
  },
  {
   "cell_type": "code",
   "execution_count": null,
   "metadata": {},
   "outputs": [],
   "source": []
  },
  {
   "cell_type": "code",
   "execution_count": 42,
   "metadata": {},
   "outputs": [],
   "source": [
    "from cryptography.fernet import Fernet\n",
    "\n",
    "# read encrypted pwd and convert into byte\n",
    "with open('encryptedPWD.txt') as f:\n",
    "    encpwd = ''.join(f.readlines())\n",
    "    encpwdbyt = bytes(encpwd, 'utf-8')\n",
    "f.close()"
   ]
  },
  {
   "cell_type": "code",
   "execution_count": 47,
   "metadata": {},
   "outputs": [
    {
     "data": {
      "text/plain": [
       "'gAAAAABkNOUs4wXOwNbJR7LG6xulE6Jg7-p2NzKmWNy7gL7QcZTfF5yM5W4XAWPx41EzgtQMhY9dmRp__qxlHp3_PaUJ0zPBbA=='"
      ]
     },
     "execution_count": 47,
     "metadata": {},
     "output_type": "execute_result"
    }
   ],
   "source": [
    "encpwd"
   ]
  },
  {
   "cell_type": "code",
   "execution_count": 48,
   "metadata": {},
   "outputs": [],
   "source": [
    "# read key and convert into byte\n",
    "with open('refKey.txt') as f:\n",
    "    refKey = ''.join(f.readlines())\n",
    "    refKeybyt = bytes(refKey, 'utf-8')\n",
    "f.close()"
   ]
  },
  {
   "cell_type": "code",
   "execution_count": null,
   "metadata": {},
   "outputs": [],
   "source": []
  },
  {
   "cell_type": "code",
   "execution_count": null,
   "metadata": {},
   "outputs": [],
   "source": []
  },
  {
   "cell_type": "code",
   "execution_count": null,
   "metadata": {},
   "outputs": [],
   "source": []
  },
  {
   "cell_type": "code",
   "execution_count": 49,
   "metadata": {},
   "outputs": [
    {
     "name": "stdout",
     "output_type": "stream",
     "text": [
      "my password -  b'Otsi@123\\n'\n"
     ]
    }
   ],
   "source": [
    "\n",
    "\n",
    "\n",
    "\n",
    "# use the key and encrypt pwd\n",
    "keytouse = Fernet(refKeybyt)\n",
    "myPass = (keytouse.decrypt(encpwdbyt))\n",
    "print(\"my password - \",myPass)"
   ]
  },
  {
   "cell_type": "code",
   "execution_count": 6,
   "metadata": {},
   "outputs": [],
   "source": [
    "conn = get_db_connection()\n",
    "cur = conn.cursor()\n",
    "cur.execute(f'''select password_hash from public.users where username='Sagar';''')      \n",
    "pw_in_db=cur.fetchall()[0][0]\n",
    "conn.close()"
   ]
  },
  {
   "cell_type": "code",
   "execution_count": 5,
   "metadata": {},
   "outputs": [
    {
     "data": {
      "text/plain": [
       "'$2b$12$spx4Gb9zd0bcCljTD8OYlOkiB/LmlfBsxef.9q5oP4sVAM4sEHhX2'"
      ]
     },
     "execution_count": 5,
     "metadata": {},
     "output_type": "execute_result"
    }
   ],
   "source": [
    "pw_in_db"
   ]
  },
  {
   "cell_type": "code",
   "execution_count": null,
   "metadata": {},
   "outputs": [],
   "source": []
  }
 ],
 "metadata": {
  "kernelspec": {
   "display_name": "Python 3 (ipykernel)",
   "language": "python",
   "name": "python3"
  },
  "language_info": {
   "codemirror_mode": {
    "name": "ipython",
    "version": 3
   },
   "file_extension": ".py",
   "mimetype": "text/x-python",
   "name": "python",
   "nbconvert_exporter": "python",
   "pygments_lexer": "ipython3",
   "version": "3.10.9"
  }
 },
 "nbformat": 4,
 "nbformat_minor": 2
}
