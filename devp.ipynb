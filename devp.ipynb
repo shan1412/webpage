{
 "cells": [
  {
   "cell_type": "code",
   "execution_count": 1,
   "metadata": {},
   "outputs": [],
   "source": [
    "import pandas as pd\n",
    "import psycopg2\n",
    "import sqlalchemy\n",
    "from sqlalchemy import create_engine\n",
    "import sqlite3\n",
    "from config import get_db_connection"
   ]
  },
  {
   "cell_type": "code",
   "execution_count": 2,
   "metadata": {},
   "outputs": [],
   "source": [
    "conn=psycopg2.connect(host='localhost',database='school',user='postgres',password='Otsi1234')"
   ]
  },
  {
   "cell_type": "code",
   "execution_count": 4,
   "metadata": {},
   "outputs": [],
   "source": [
    "marks_sheet=pd.read_csv(r'C:\\Users\\sampath.emandi\\Desktop\\marks_sheet.csv')"
   ]
  },
  {
   "cell_type": "code",
   "execution_count": 35,
   "metadata": {},
   "outputs": [],
   "source": [
    "# students_data['Joining_date']=pd.to_datetime(students_data['Joining_date'])\n",
    "# students_data['DOB']=pd.to_datetime(students_data['DOB'])\n",
    "# students_data['Last_update']==pd.to_datetime(students_data['Last_update'])"
   ]
  },
  {
   "cell_type": "code",
   "execution_count": 6,
   "metadata": {},
   "outputs": [],
   "source": [
    "conn=psycopg2.connect(host='localhost',database='school',user='postgres',password='Otsi1234')\n",
    "cur = conn.cursor()\n",
    "with open(r'C:\\\\Users\\sampath.emandi\\\\Desktop\\\\marks_sheet.csv') as f:\n",
    "    next(f) # Skip the header row.\n",
    "    cur.copy_from(f, 'acadamic_reports', sep=',')\n",
    "conn.commit()\n",
    "conn.close()"
   ]
  },
  {
   "cell_type": "code",
   "execution_count": 4,
   "metadata": {},
   "outputs": [
    {
     "ename": "InFailedSqlTransaction",
     "evalue": "current transaction is aborted, commands ignored until end of transaction block\n",
     "output_type": "error",
     "traceback": [
      "\u001b[1;31m---------------------------------------------------------------------------\u001b[0m",
      "\u001b[1;31mInFailedSqlTransaction\u001b[0m                    Traceback (most recent call last)",
      "\u001b[1;32mc:\\POC\\devp.ipynb Cell 6\u001b[0m in \u001b[0;36m<cell line: 2>\u001b[1;34m()\u001b[0m\n\u001b[0;32m      <a href='vscode-notebook-cell:/c%3A/POC/devp.ipynb#W5sZmlsZQ%3D%3D?line=0'>1</a>\u001b[0m cur \u001b[39m=\u001b[39m conn\u001b[39m.\u001b[39mcursor()\n\u001b[1;32m----> <a href='vscode-notebook-cell:/c%3A/POC/devp.ipynb#W5sZmlsZQ%3D%3D?line=1'>2</a>\u001b[0m cur\u001b[39m.\u001b[39;49mexecute(\u001b[39m'''\u001b[39;49m\u001b[39mSELECT * FROM information_schema.columns WHERE table_schema = \u001b[39;49m\u001b[39m'\u001b[39;49m\u001b[39mpublic\u001b[39;49m\u001b[39m'\u001b[39;49m\u001b[39mAND table_name   = \u001b[39;49m\u001b[39m'\u001b[39;49m\u001b[39mstudent_details\u001b[39;49m\u001b[39m'\u001b[39;49m\u001b[39m;\u001b[39;49m\u001b[39m'''\u001b[39;49m)\n",
      "\u001b[1;31mInFailedSqlTransaction\u001b[0m: current transaction is aborted, commands ignored until end of transaction block\n"
     ]
    }
   ],
   "source": [
    "cur = conn.cursor()\n",
    "cur.execute('''SELECT * FROM information_schema.columns WHERE table_schema = 'public'AND table_name   = 'student_details';''')"
   ]
  },
  {
   "cell_type": "code",
   "execution_count": null,
   "metadata": {},
   "outputs": [],
   "source": []
  },
  {
   "cell_type": "code",
   "execution_count": null,
   "metadata": {},
   "outputs": [],
   "source": []
  }
 ],
 "metadata": {
  "kernelspec": {
   "display_name": "Python 3",
   "language": "python",
   "name": "python3"
  },
  "language_info": {
   "codemirror_mode": {
    "name": "ipython",
    "version": 3
   },
   "file_extension": ".py",
   "mimetype": "text/x-python",
   "name": "python",
   "nbconvert_exporter": "python",
   "pygments_lexer": "ipython3",
   "version": "3.10.4"
  },
  "orig_nbformat": 4
 },
 "nbformat": 4,
 "nbformat_minor": 2
}
